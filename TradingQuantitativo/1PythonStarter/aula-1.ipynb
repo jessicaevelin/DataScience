{
 "cells": [
  {
   "cell_type": "markdown",
   "id": "0d346d2b",
   "metadata": {},
   "source": [
    "# Python Starter\n",
    "Curso completo de python\n",
    "\n",
    "F0523"
   ]
  },
  {
   "cell_type": "code",
   "execution_count": null,
   "id": "58f0e0c6",
   "metadata": {},
   "outputs": [],
   "source": []
  },
  {
   "cell_type": "markdown",
   "id": "abbcc48f",
   "metadata": {},
   "source": [
    "## OS"
   ]
  },
  {
   "cell_type": "code",
   "execution_count": 1,
   "id": "b42d2029",
   "metadata": {},
   "outputs": [],
   "source": [
    "import os"
   ]
  },
  {
   "cell_type": "code",
   "execution_count": null,
   "id": "a6901a5e",
   "metadata": {},
   "outputs": [
    {
     "name": "stdout",
     "output_type": "stream",
     "text": [
      "c:\\Users\\eveli\\Desktop\\Dev\\DataScience\\TradingQuantitativo\\1PythonStarter\n",
      "['.gitkeep', 'aula-1.ipynb']\n",
      "['.gitignore', 'analise-train.csv', 'dados', 'data-frame.py', 'delivery-analysis.py', 'for-if-elif.py', 'loc-iloc.py']\n"
     ]
    }
   ],
   "source": [
    "# Path atual\n",
    "print(os.getcwd())\n",
    "\n",
    "# Arquivos em uma pasta\n",
    "print(os.listdir())\n",
    "print(os.listdir('../../DSFormation'))\n",
    "\n",
    "# Troca de área de trabalho \n",
    "os.getcwd()\n",
    "\n",
    "# Cria uma pasta\n",
    "os.mkdir(\"NovaPasta\")\n",
    "\n",
    "# Renomeia\n",
    "os.rename('NovaPasta', 'NewPaste')\n",
    "\n",
    "# Remove\n",
    "os.remove('arquivo.txt')"
   ]
  }
 ],
 "metadata": {
  "kernelspec": {
   "display_name": "Python 3",
   "language": "python",
   "name": "python3"
  },
  "language_info": {
   "codemirror_mode": {
    "name": "ipython",
    "version": 3
   },
   "file_extension": ".py",
   "mimetype": "text/x-python",
   "name": "python",
   "nbconvert_exporter": "python",
   "pygments_lexer": "ipython3",
   "version": "3.12.4"
  }
 },
 "nbformat": 4,
 "nbformat_minor": 5
}
