{
 "cells": [
  {
   "cell_type": "markdown",
   "id": "3d9530de",
   "metadata": {},
   "source": [
    "# Programação orientada a objetos"
   ]
  },
  {
   "cell_type": "code",
   "execution_count": null,
   "id": "22f04482",
   "metadata": {},
   "outputs": [],
   "source": []
  },
  {
   "cell_type": "markdown",
   "id": "8a0d209e",
   "metadata": {},
   "source": [
    "Organizar e reduzir códigos\n",
    "Criar nossos próprios tipos de dados\n",
    "\n",
    "Exemplo: Jogo ZombieKill\n",
    "\n",
    "\n",
    "Todos os zumbis tem algumas caracteristicas e aparências iguais\n",
    "\n",
    "Exemplo: Se a vida chega a zero o zumbi morre\n",
    "\n",
    "Zumbi verde\n",
    "    Atributos: Vida, velocidade e fome\n",
    "    Ações: Morder, pular, correr e morrer\n",
    "\n",
    "Zumbi amarelo\n",
    "    Atributos: Vida e velocidade\n",
    "    Ações: Morder e morrer\n",
    "\n",
    "Não preciso criar um zumbi amarelo do zero, eu posso reutilizar o código do verde"
   ]
  },
  {
   "cell_type": "code",
   "execution_count": null,
   "id": "55afb993",
   "metadata": {},
   "outputs": [
    {
     "name": "stdout",
     "output_type": "stream",
     "text": [
      "<class 'list'>\n"
     ]
    }
   ],
   "source": [
    "l = [1,2,3,4,5]  # l é um objeto (instância) da classe list\n",
    "print(type(l))  # Objeto l é um filho da classe list\n",
    "l.append(10)    # O método append é um método que só existe na classe list"
   ]
  },
  {
   "cell_type": "code",
   "execution_count": null,
   "id": "34d3fbb7",
   "metadata": {},
   "outputs": [
    {
     "name": "stdout",
     "output_type": "stream",
     "text": [
      "<class '__main__.exemplo'>\n"
     ]
    }
   ],
   "source": [
    "# Criando o meu tipo de dado\n",
    "class Exemplo:\n",
    "    pass # Faz nada, é só para não ficar vazia\n",
    "\n",
    "x = exemplo() # Criando um objeto do tipo exemplo\n",
    "\n",
    "print(type(x))"
   ]
  },
  {
   "cell_type": "code",
   "execution_count": 31,
   "id": "04cefad3",
   "metadata": {},
   "outputs": [
    {
     "name": "stdout",
     "output_type": "stream",
     "text": [
      "Vira-Lata criado\n",
      "Pitibu criado\n",
      "10\n",
      "Vira-Lata\n",
      "99\n",
      "Pitibu\n",
      "10\n",
      "100\n"
     ]
    }
   ],
   "source": [
    "class Dog:\n",
    "    def __init__(self, raca='Vira-Lata'): # Chamado automaticamente no inicio\n",
    "        self.idade = 10 # automatico\n",
    "        self.raca = raca # tenho que definir o parâmetro\n",
    "        print(f'{raca} criado')\n",
    "    \n",
    "    def envelhecer(self):\n",
    "        self.idade += 1\n",
    "        return self.idade\n",
    "      \n",
    "dog1 = Dog()\n",
    "dog2 = Dog('Pitibu')\n",
    "\n",
    "# Idade padrão\n",
    "print(dog1.idade)\n",
    "print(dog1.raca)\n",
    "\n",
    "# Tratando de forma individual\n",
    "dog2.idade = 99 \n",
    "print(dog2.idade) \n",
    "print(dog2.raca)\n",
    "\n",
    "# Usando a função envelhecer, que a cada vez que é chamada soma mais uma ano de idade\n",
    "dog2.envelhecer()\n",
    "print(dog1.idade)\n",
    "print(dog2.idade) "
   ]
  },
  {
   "cell_type": "code",
   "execution_count": null,
   "id": "c417879d",
   "metadata": {},
   "outputs": [
    {
     "name": "stdout",
     "output_type": "stream",
     "text": [
      "<class '__main__.Circle'>\n",
      "3.14\n",
      "12.56\n"
     ]
    }
   ],
   "source": [
    "class Circle():\n",
    "    def __init__(self, raio = 1):\n",
    "        self.raio = raio\n",
    "    def calcula_area(self):\n",
    "        return self.raio * self.raio * 3.14\n",
    "\n",
    "# Criando um padrão\n",
    "circulo = Circle()\n",
    "print(type(circulo))\n",
    "\n",
    "# Usando o método\n",
    "print(circulo.calcula_area())\n",
    "\n",
    "# Criando \n",
    "circulo2 = Circle(2)\n",
    "\n",
    "# Usando o método\n",
    "print(circulo2.calcula_area())"
   ]
  }
 ],
 "metadata": {
  "kernelspec": {
   "display_name": "Python 3",
   "language": "python",
   "name": "python3"
  },
  "language_info": {
   "codemirror_mode": {
    "name": "ipython",
    "version": 3
   },
   "file_extension": ".py",
   "mimetype": "text/x-python",
   "name": "python",
   "nbconvert_exporter": "python",
   "pygments_lexer": "ipython3",
   "version": "3.12.4"
  }
 },
 "nbformat": 4,
 "nbformat_minor": 5
}
