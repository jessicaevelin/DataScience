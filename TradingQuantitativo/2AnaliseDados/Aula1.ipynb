{
 "cells": [
  {
   "cell_type": "markdown",
   "id": "9b6cf13c",
   "metadata": {},
   "source": [
    "# Análise de dados com Pandas e SQL"
   ]
  },
  {
   "cell_type": "code",
   "execution_count": null,
   "id": "10d6aa86",
   "metadata": {},
   "outputs": [],
   "source": []
  }
 ],
 "metadata": {
  "language_info": {
   "name": "python"
  }
 },
 "nbformat": 4,
 "nbformat_minor": 5
}
