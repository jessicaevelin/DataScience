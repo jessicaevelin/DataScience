{
 "cells": [
  {
   "cell_type": "markdown",
   "id": "9b6cf13c",
   "metadata": {},
   "source": [
    "# Análise de dados com Pandas e SQL\n",
    "\n",
    "DataFrame = Tabelas\n",
    "\n",
    "Series = Colunas\n",
    "\n",
    "Indices = Linhas"
   ]
  },
  {
   "cell_type": "code",
   "execution_count": 3,
   "id": "10d6aa86",
   "metadata": {},
   "outputs": [],
   "source": [
    "import pandas as pd\n",
    "import numpy as np"
   ]
  },
  {
   "cell_type": "code",
   "execution_count": 25,
   "id": "8cf60f56",
   "metadata": {},
   "outputs": [
    {
     "name": "stdout",
     "output_type": "stream",
     "text": [
      "0    jessica\n",
      "1     evelin\n",
      "2      silva\n",
      "dtype: object\n",
      "----\n",
      "indice_d    10\n",
      "indice_e    20\n",
      "indice_f    30\n",
      "dtype: int64\n",
      "----\n",
      "jessica    40\n",
      "evelin     50\n",
      "silva      60\n",
      "dtype: int64\n"
     ]
    }
   ],
   "source": [
    "lista = ['jessica','evelin','silva']\n",
    "print(pd.Series(lista))\n",
    "print('----')\n",
    "\n",
    "dicionario = {'indice_d': 10, 'indice_e': 20, 'indice_f': 30}\n",
    "print(pd.Series(dicionario))\n",
    "print('----')\n",
    "\n",
    "array = np.array([40, 50, 60])\n",
    "print(pd.Series(data = array, index = lista))"
   ]
  },
  {
   "cell_type": "markdown",
   "id": "1b4bb983",
   "metadata": {},
   "source": [
    "## Selecionando valores"
   ]
  },
  {
   "cell_type": "code",
   "execution_count": null,
   "id": "bc0556bd",
   "metadata": {},
   "outputs": [
    {
     "name": "stdout",
     "output_type": "stream",
     "text": [
      "EUA        5\n",
      "Brasil     7\n",
      "Itália    12\n",
      "China      3\n",
      "dtype: int64\n",
      "----\n",
      "EUA          10\n",
      "Chile        20\n",
      "Argentina    30\n",
      "China        40\n",
      "dtype: int64\n"
     ]
    }
   ],
   "source": [
    "paises_a = pd.Series([5,7,12,3], index=['EUA', 'Brasil', 'Argentina', 'China'])\n",
    "paises_b = pd.Series([10,20,30,40], index=['EUA', 'Chile', 'Argentina', 'China'])\n",
    "\n",
    "print(paises_a)\n",
    "print('----')\n",
    "\n",
    "print(paises_b)"
   ]
  },
  {
   "cell_type": "code",
   "execution_count": 43,
   "id": "33d48b12",
   "metadata": {},
   "outputs": [
    {
     "name": "stdout",
     "output_type": "stream",
     "text": [
      "Brasil    7\n",
      "EUA       5\n",
      "dtype: int64\n",
      "----\n",
      "EUA    5\n",
      "dtype: int64\n",
      "----\n",
      "Argentina     NaN\n",
      "Brasil        NaN\n",
      "Chile         NaN\n",
      "China        43.0\n",
      "EUA          15.0\n",
      "Itália        NaN\n",
      "dtype: float64\n"
     ]
    }
   ],
   "source": [
    "print(paises_a[['Brasil', 'EUA']])\n",
    "print('----')\n",
    "\n",
    "print(paises_a[['EUA']])\n",
    "print('----')\n",
    "\n",
    "print(paises_a + paises_b)"
   ]
  }
 ],
 "metadata": {
  "kernelspec": {
   "display_name": ".venv",
   "language": "python",
   "name": "python3"
  },
  "language_info": {
   "codemirror_mode": {
    "name": "ipython",
    "version": 3
   },
   "file_extension": ".py",
   "mimetype": "text/x-python",
   "name": "python",
   "nbconvert_exporter": "python",
   "pygments_lexer": "ipython3",
   "version": "3.12.3"
  }
 },
 "nbformat": 4,
 "nbformat_minor": 5
}
