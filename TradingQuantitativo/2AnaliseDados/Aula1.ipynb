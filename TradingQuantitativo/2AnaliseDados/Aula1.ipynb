{
 "cells": [
  {
   "cell_type": "markdown",
   "id": "9b6cf13c",
   "metadata": {},
   "source": [
    "# Análise de dados com Pandas e SQL\n",
    "\n",
    "DataFrame = Tabelas\n",
    "\n",
    "Series = Colunas\n",
    "\n",
    "Indices = Linhas"
   ]
  },
  {
   "cell_type": "code",
   "execution_count": 109,
   "id": "10d6aa86",
   "metadata": {},
   "outputs": [],
   "source": [
    "import pandas as pd\n",
    "import numpy as np\n",
    "from numpy.random import randn"
   ]
  },
  {
   "cell_type": "markdown",
   "id": "09fe4302",
   "metadata": {},
   "source": [
    "## Series"
   ]
  },
  {
   "cell_type": "markdown",
   "id": "159f491a",
   "metadata": {},
   "source": [
    "### Criando Series apartir de outros objetos"
   ]
  },
  {
   "cell_type": "code",
   "execution_count": 110,
   "id": "8cf60f56",
   "metadata": {},
   "outputs": [
    {
     "name": "stdout",
     "output_type": "stream",
     "text": [
      "0    jessica\n",
      "1     evelin\n",
      "2      silva\n",
      "dtype: object\n",
      "----\n",
      "indice_d    10\n",
      "indice_e    20\n",
      "indice_f    30\n",
      "dtype: int64\n",
      "----\n",
      "jessica    40\n",
      "evelin     50\n",
      "silva      60\n",
      "dtype: int64\n"
     ]
    }
   ],
   "source": [
    "lista = ['jessica','evelin','silva']\n",
    "print(pd.Series(lista))\n",
    "print('----')\n",
    "\n",
    "dicionario = {'indice_d': 10, 'indice_e': 20, 'indice_f': 30}\n",
    "print(pd.Series(dicionario))\n",
    "print('----')\n",
    "\n",
    "array = np.array([40, 50, 60])\n",
    "print(pd.Series(data = array, index = lista))"
   ]
  },
  {
   "cell_type": "markdown",
   "id": "1b4bb983",
   "metadata": {},
   "source": [
    "### Selecionando valores de Series"
   ]
  },
  {
   "cell_type": "code",
   "execution_count": 111,
   "id": "bc0556bd",
   "metadata": {},
   "outputs": [
    {
     "name": "stdout",
     "output_type": "stream",
     "text": [
      "EUA           5\n",
      "Brasil        7\n",
      "Argentina    12\n",
      "China         3\n",
      "dtype: int64\n",
      "----\n",
      "EUA          10\n",
      "Chile        20\n",
      "Argentina    30\n",
      "China        40\n",
      "dtype: int64\n",
      "----\n",
      "Brasil    7\n",
      "EUA       5\n",
      "dtype: int64\n",
      "----\n",
      "EUA    5\n",
      "dtype: int64\n",
      "----\n"
     ]
    }
   ],
   "source": [
    "paises_a = pd.Series([5,7,12,3], index=['EUA', 'Brasil', 'Argentina', 'China'])\n",
    "paises_b = pd.Series([10,20,30,40], index=['EUA', 'Chile', 'Argentina', 'China'])\n",
    "\n",
    "print(paises_a)\n",
    "print('----')\n",
    "\n",
    "print(paises_b)\n",
    "print('----')\n",
    "\n",
    "print(paises_a[['Brasil', 'EUA']])\n",
    "print('----')\n",
    "\n",
    "print(paises_a[['EUA']])\n",
    "print('----')"
   ]
  },
  {
   "cell_type": "markdown",
   "id": "02859838",
   "metadata": {},
   "source": [
    "### Somando Series"
   ]
  },
  {
   "cell_type": "code",
   "execution_count": 112,
   "id": "33d48b12",
   "metadata": {},
   "outputs": [
    {
     "name": "stdout",
     "output_type": "stream",
     "text": [
      "Argentina    42.0\n",
      "Brasil        NaN\n",
      "Chile         NaN\n",
      "China        43.0\n",
      "EUA          15.0\n",
      "dtype: float64\n"
     ]
    }
   ],
   "source": [
    "print(paises_a + paises_b)"
   ]
  },
  {
   "cell_type": "markdown",
   "id": "991b9fa0",
   "metadata": {},
   "source": [
    "## DataFrames"
   ]
  },
  {
   "cell_type": "markdown",
   "id": "ed937370",
   "metadata": {},
   "source": [
    "### Criando um DF"
   ]
  },
  {
   "cell_type": "code",
   "execution_count": 113,
   "id": "f8e21d82",
   "metadata": {},
   "outputs": [
    {
     "data": {
      "text/html": [
       "<div>\n",
       "<style scoped>\n",
       "    .dataframe tbody tr th:only-of-type {\n",
       "        vertical-align: middle;\n",
       "    }\n",
       "\n",
       "    .dataframe tbody tr th {\n",
       "        vertical-align: top;\n",
       "    }\n",
       "\n",
       "    .dataframe thead th {\n",
       "        text-align: right;\n",
       "    }\n",
       "</style>\n",
       "<table border=\"1\" class=\"dataframe\">\n",
       "  <thead>\n",
       "    <tr style=\"text-align: right;\">\n",
       "      <th></th>\n",
       "      <th>W</th>\n",
       "      <th>X</th>\n",
       "      <th>Y</th>\n",
       "      <th>Z</th>\n",
       "    </tr>\n",
       "  </thead>\n",
       "  <tbody>\n",
       "    <tr>\n",
       "      <th>A</th>\n",
       "      <td>0.401451</td>\n",
       "      <td>0.939553</td>\n",
       "      <td>-0.918351</td>\n",
       "      <td>-0.152371</td>\n",
       "    </tr>\n",
       "    <tr>\n",
       "      <th>B</th>\n",
       "      <td>0.680274</td>\n",
       "      <td>-1.150253</td>\n",
       "      <td>1.124790</td>\n",
       "      <td>0.517425</td>\n",
       "    </tr>\n",
       "    <tr>\n",
       "      <th>C</th>\n",
       "      <td>0.178798</td>\n",
       "      <td>-0.316577</td>\n",
       "      <td>-1.643051</td>\n",
       "      <td>0.235136</td>\n",
       "    </tr>\n",
       "    <tr>\n",
       "      <th>D</th>\n",
       "      <td>1.658206</td>\n",
       "      <td>-1.468568</td>\n",
       "      <td>0.223472</td>\n",
       "      <td>-1.768720</td>\n",
       "    </tr>\n",
       "    <tr>\n",
       "      <th>E</th>\n",
       "      <td>-1.450825</td>\n",
       "      <td>-0.037364</td>\n",
       "      <td>-0.248139</td>\n",
       "      <td>1.017535</td>\n",
       "    </tr>\n",
       "  </tbody>\n",
       "</table>\n",
       "</div>"
      ],
      "text/plain": [
       "          W         X         Y         Z\n",
       "A  0.401451  0.939553 -0.918351 -0.152371\n",
       "B  0.680274 -1.150253  1.124790  0.517425\n",
       "C  0.178798 -0.316577 -1.643051  0.235136\n",
       "D  1.658206 -1.468568  0.223472 -1.768720\n",
       "E -1.450825 -0.037364 -0.248139  1.017535"
      ]
     },
     "execution_count": 113,
     "metadata": {},
     "output_type": "execute_result"
    }
   ],
   "source": [
    "df = pd.DataFrame(randn(5,4), index=['A','B','C','D', 'E'], columns ='W X Y Z'.split()) # split e uma outra forma de fazer uma lista\n",
    "df"
   ]
  },
  {
   "cell_type": "markdown",
   "id": "4f094313",
   "metadata": {},
   "source": [
    "### Selecionando colunas/Series\n",
    "\n",
    "Toda a seleção com duplas [[]], retorna um data frame\n",
    "\n",
    "E as com [] simples, retorna uma Series"
   ]
  },
  {
   "cell_type": "code",
   "execution_count": 114,
   "id": "27bba839",
   "metadata": {},
   "outputs": [
    {
     "name": "stdout",
     "output_type": "stream",
     "text": [
      "A    0.401451\n",
      "B    0.680274\n",
      "C    0.178798\n",
      "D    1.658206\n",
      "E   -1.450825\n",
      "Name: W, dtype: float64\n",
      "<class 'pandas.core.series.Series'>\n",
      "----\n",
      "          W\n",
      "A  0.401451\n",
      "B  0.680274\n",
      "C  0.178798\n",
      "D  1.658206\n",
      "E -1.450825\n",
      "<class 'pandas.core.frame.DataFrame'>\n"
     ]
    }
   ],
   "source": [
    "# Retorna em Series\n",
    "print(df['W'])\n",
    "df.iloc[2,2] # Selecionado pela linha e pela coluna\n",
    "print(type(df['W']))\n",
    "print('----')\n",
    "\n",
    "# Retorna em DataFrame\n",
    "print(df[['W']])\n",
    "df.iloc[[2,2]] # Selecionado pela linha e pela coluna\n",
    "print(type(df[['W']]))"
   ]
  },
  {
   "cell_type": "code",
   "execution_count": 115,
   "id": "d0566dcc",
   "metadata": {},
   "outputs": [
    {
     "ename": "SyntaxError",
     "evalue": "unmatched ']' (2861594339.py, line 12)",
     "output_type": "error",
     "traceback": [
      "  \u001b[36mCell\u001b[39m\u001b[36m \u001b[39m\u001b[32mIn[115]\u001b[39m\u001b[32m, line 12\u001b[39m\n\u001b[31m    \u001b[39m\u001b[31mdf.iloc[:-1,:]] # Tudo menos a última linha\u001b[39m\n                  ^\n\u001b[31mSyntaxError\u001b[39m\u001b[31m:\u001b[39m unmatched ']'\n"
     ]
    }
   ],
   "source": [
    "# Loc é para o nome das colunas\n",
    "df.loc[:] # Tudo\n",
    "df.loc[['A','C'],:] # Apenas algumas linhas\n",
    "df.loc[:,['X','Y']] # Apenas algumas colunas\n",
    "df.loc[['B'],['X']] # Selecionado pela linha e pela coluna\n",
    "\n",
    "# Iloc é para os números e posições\n",
    "df.iloc[:] # Tudo\n",
    "df.iloc[1:3,:] # Apenas algumas linhas\n",
    "df.iloc[:,2:4] # Apenas algumas colunas\n",
    "df.iloc[[2,2]] # Selecionado pela linha e pela coluna\n",
    "df.iloc[:-1,:]] # Tudo menos a última linha"
   ]
  },
  {
   "cell_type": "markdown",
   "id": "6a59b13d",
   "metadata": {},
   "source": [
    "### Adicionando Colunas/Series"
   ]
  },
  {
   "cell_type": "code",
   "execution_count": null,
   "id": "da92cdb6",
   "metadata": {},
   "outputs": [
    {
     "data": {
      "text/html": [
       "<div>\n",
       "<style scoped>\n",
       "    .dataframe tbody tr th:only-of-type {\n",
       "        vertical-align: middle;\n",
       "    }\n",
       "\n",
       "    .dataframe tbody tr th {\n",
       "        vertical-align: top;\n",
       "    }\n",
       "\n",
       "    .dataframe thead th {\n",
       "        text-align: right;\n",
       "    }\n",
       "</style>\n",
       "<table border=\"1\" class=\"dataframe\">\n",
       "  <thead>\n",
       "    <tr style=\"text-align: right;\">\n",
       "      <th></th>\n",
       "      <th>W</th>\n",
       "      <th>X</th>\n",
       "      <th>Y</th>\n",
       "      <th>Z</th>\n",
       "      <th>NovaColuna</th>\n",
       "    </tr>\n",
       "  </thead>\n",
       "  <tbody>\n",
       "    <tr>\n",
       "      <th>A</th>\n",
       "      <td>-0.318850</td>\n",
       "      <td>0.190298</td>\n",
       "      <td>0.811405</td>\n",
       "      <td>1.267467</td>\n",
       "      <td>999.939324</td>\n",
       "    </tr>\n",
       "    <tr>\n",
       "      <th>B</th>\n",
       "      <td>-1.600750</td>\n",
       "      <td>-0.587911</td>\n",
       "      <td>0.115477</td>\n",
       "      <td>-0.131726</td>\n",
       "      <td>1000.941099</td>\n",
       "    </tr>\n",
       "    <tr>\n",
       "      <th>C</th>\n",
       "      <td>-0.713648</td>\n",
       "      <td>0.146188</td>\n",
       "      <td>1.021631</td>\n",
       "      <td>-0.336374</td>\n",
       "      <td>999.895673</td>\n",
       "    </tr>\n",
       "    <tr>\n",
       "      <th>D</th>\n",
       "      <td>0.391783</td>\n",
       "      <td>1.039593</td>\n",
       "      <td>-0.283614</td>\n",
       "      <td>-0.494330</td>\n",
       "      <td>1000.407294</td>\n",
       "    </tr>\n",
       "    <tr>\n",
       "      <th>E</th>\n",
       "      <td>1.062240</td>\n",
       "      <td>-0.600410</td>\n",
       "      <td>-0.570514</td>\n",
       "      <td>-1.770427</td>\n",
       "      <td>999.362220</td>\n",
       "    </tr>\n",
       "  </tbody>\n",
       "</table>\n",
       "</div>"
      ],
      "text/plain": [
       "          W         X         Y         Z   NovaColuna\n",
       "A -0.318850  0.190298  0.811405  1.267467   999.939324\n",
       "B -1.600750 -0.587911  0.115477 -0.131726  1000.941099\n",
       "C -0.713648  0.146188  1.021631 -0.336374   999.895673\n",
       "D  0.391783  1.039593 -0.283614 -0.494330  1000.407294\n",
       "E  1.062240 -0.600410 -0.570514 -1.770427   999.362220"
      ]
     },
     "execution_count": 19,
     "metadata": {},
     "output_type": "execute_result"
    }
   ],
   "source": [
    "df['NovaColuna'] = df['W']\n",
    "df['NovaColuna'] = df['W'] * df['X'] + 1000\n",
    "df"
   ]
  },
  {
   "cell_type": "markdown",
   "id": "d7a04e56",
   "metadata": {},
   "source": [
    "### Removendo Colunas/Series"
   ]
  },
  {
   "cell_type": "code",
   "execution_count": null,
   "id": "ec543fbc",
   "metadata": {},
   "outputs": [
    {
     "data": {
      "text/html": [
       "<div>\n",
       "<style scoped>\n",
       "    .dataframe tbody tr th:only-of-type {\n",
       "        vertical-align: middle;\n",
       "    }\n",
       "\n",
       "    .dataframe tbody tr th {\n",
       "        vertical-align: top;\n",
       "    }\n",
       "\n",
       "    .dataframe thead th {\n",
       "        text-align: right;\n",
       "    }\n",
       "</style>\n",
       "<table border=\"1\" class=\"dataframe\">\n",
       "  <thead>\n",
       "    <tr style=\"text-align: right;\">\n",
       "      <th></th>\n",
       "      <th>X</th>\n",
       "      <th>Y</th>\n",
       "      <th>Z</th>\n",
       "    </tr>\n",
       "  </thead>\n",
       "  <tbody>\n",
       "    <tr>\n",
       "      <th>A</th>\n",
       "      <td>0.190298</td>\n",
       "      <td>0.811405</td>\n",
       "      <td>1.267467</td>\n",
       "    </tr>\n",
       "    <tr>\n",
       "      <th>B</th>\n",
       "      <td>-0.587911</td>\n",
       "      <td>0.115477</td>\n",
       "      <td>-0.131726</td>\n",
       "    </tr>\n",
       "    <tr>\n",
       "      <th>C</th>\n",
       "      <td>0.146188</td>\n",
       "      <td>1.021631</td>\n",
       "      <td>-0.336374</td>\n",
       "    </tr>\n",
       "    <tr>\n",
       "      <th>D</th>\n",
       "      <td>1.039593</td>\n",
       "      <td>-0.283614</td>\n",
       "      <td>-0.494330</td>\n",
       "    </tr>\n",
       "    <tr>\n",
       "      <th>E</th>\n",
       "      <td>-0.600410</td>\n",
       "      <td>-0.570514</td>\n",
       "      <td>-1.770427</td>\n",
       "    </tr>\n",
       "  </tbody>\n",
       "</table>\n",
       "</div>"
      ],
      "text/plain": [
       "          X         Y         Z\n",
       "A  0.190298  0.811405  1.267467\n",
       "B -0.587911  0.115477 -0.131726\n",
       "C  0.146188  1.021631 -0.336374\n",
       "D  1.039593 -0.283614 -0.494330\n",
       "E -0.600410 -0.570514 -1.770427"
      ]
     },
     "execution_count": 20,
     "metadata": {},
     "output_type": "execute_result"
    }
   ],
   "source": [
    "# Drop, axis=1 é coluna e axis=0 é linha\n",
    "df.drop('NovaColuna', axis=1, inplace = True)\n",
    "\n",
    "# Del, é a mesma coisa do Drop de forma simplificada\n",
    "del df['W']\n",
    "\n",
    "df"
   ]
  },
  {
   "cell_type": "markdown",
   "id": "487ea8ad",
   "metadata": {},
   "source": [
    "### Seleção condicional"
   ]
  },
  {
   "cell_type": "code",
   "execution_count": null,
   "id": "e326ad9f",
   "metadata": {},
   "outputs": [
    {
     "name": "stdout",
     "output_type": "stream",
     "text": [
      "       X      Y      Z\n",
      "A   True   True   True\n",
      "B  False   True  False\n",
      "C   True   True  False\n",
      "D   True  False  False\n",
      "E  False  False  False\n",
      "----\n",
      "          X         Y         Z\n",
      "A  0.190298  0.811405  1.267467\n",
      "B       NaN  0.115477       NaN\n",
      "C  0.146188  1.021631       NaN\n",
      "D  1.039593       NaN       NaN\n",
      "E       NaN       NaN       NaN\n",
      "----\n",
      "A     True\n",
      "B    False\n",
      "C    False\n",
      "D    False\n",
      "E    False\n",
      "Name: Z, dtype: bool\n",
      "----\n",
      "          X         Y         Z\n",
      "A  0.190298  0.811405  1.267467\n"
     ]
    }
   ],
   "source": [
    "print(df > 0) # Quando o meu df é maior que zero\n",
    "print('----')\n",
    "print(df[df > 0]) # Aqueles que são menores serão tratados como NaN\n",
    "print('----')\n",
    "print(df['Z'] > 0 )\n",
    "print('----')\n",
    "print(df[df['Z']>0])"
   ]
  },
  {
   "cell_type": "code",
   "execution_count": null,
   "id": "a2e6e5cc",
   "metadata": {},
   "outputs": [
    {
     "name": "stdout",
     "output_type": "stream",
     "text": [
      "A     True\n",
      "B    False\n",
      "C    False\n",
      "D    False\n",
      "E    False\n",
      "dtype: bool\n",
      "----\n",
      "          X         Y         Z\n",
      "A  0.190298  0.811405  1.267467\n"
     ]
    }
   ],
   "source": [
    "print((df['Z'] > 0) & (df['X'] > 0)) # Compara linha a linha\n",
    "\n",
    "print('----')\n",
    "\n",
    "print(df[(df['Z'] > 0) & (df['X'] > 0)]) # Tras todas as colunas, das linhas selecionadas"
   ]
  },
  {
   "cell_type": "markdown",
   "id": "4971eee6",
   "metadata": {},
   "source": [
    "### Mais detalhes dos índices"
   ]
  },
  {
   "cell_type": "code",
   "execution_count": 116,
   "id": "5ce3160f",
   "metadata": {},
   "outputs": [
    {
     "name": "stdout",
     "output_type": "stream",
     "text": [
      "Index(['A', 'B', 'C', 'D', 'E'], dtype='object')\n",
      "Index(['W', 'X', 'Y', 'Z'], dtype='object')\n"
     ]
    }
   ],
   "source": [
    "print(df.index) # Linhas\n",
    "print(df.columns) # Colunas"
   ]
  },
  {
   "cell_type": "code",
   "execution_count": 117,
   "id": "d55b63a4",
   "metadata": {},
   "outputs": [
    {
     "data": {
      "text/html": [
       "<div>\n",
       "<style scoped>\n",
       "    .dataframe tbody tr th:only-of-type {\n",
       "        vertical-align: middle;\n",
       "    }\n",
       "\n",
       "    .dataframe tbody tr th {\n",
       "        vertical-align: top;\n",
       "    }\n",
       "\n",
       "    .dataframe thead th {\n",
       "        text-align: right;\n",
       "    }\n",
       "</style>\n",
       "<table border=\"1\" class=\"dataframe\">\n",
       "  <thead>\n",
       "    <tr style=\"text-align: right;\">\n",
       "      <th></th>\n",
       "      <th>W</th>\n",
       "      <th>X</th>\n",
       "      <th>Y</th>\n",
       "      <th>Z</th>\n",
       "      <th>novo_indice</th>\n",
       "    </tr>\n",
       "  </thead>\n",
       "  <tbody>\n",
       "    <tr>\n",
       "      <th>A</th>\n",
       "      <td>0.401451</td>\n",
       "      <td>0.939553</td>\n",
       "      <td>-0.918351</td>\n",
       "      <td>-0.152371</td>\n",
       "      <td>PB</td>\n",
       "    </tr>\n",
       "    <tr>\n",
       "      <th>B</th>\n",
       "      <td>0.680274</td>\n",
       "      <td>-1.150253</td>\n",
       "      <td>1.124790</td>\n",
       "      <td>0.517425</td>\n",
       "      <td>PE</td>\n",
       "    </tr>\n",
       "    <tr>\n",
       "      <th>C</th>\n",
       "      <td>0.178798</td>\n",
       "      <td>-0.316577</td>\n",
       "      <td>-1.643051</td>\n",
       "      <td>0.235136</td>\n",
       "      <td>SP</td>\n",
       "    </tr>\n",
       "    <tr>\n",
       "      <th>D</th>\n",
       "      <td>1.658206</td>\n",
       "      <td>-1.468568</td>\n",
       "      <td>0.223472</td>\n",
       "      <td>-1.768720</td>\n",
       "      <td>RJ</td>\n",
       "    </tr>\n",
       "    <tr>\n",
       "      <th>E</th>\n",
       "      <td>-1.450825</td>\n",
       "      <td>-0.037364</td>\n",
       "      <td>-0.248139</td>\n",
       "      <td>1.017535</td>\n",
       "      <td>RS</td>\n",
       "    </tr>\n",
       "  </tbody>\n",
       "</table>\n",
       "</div>"
      ],
      "text/plain": [
       "          W         X         Y         Z novo_indice\n",
       "A  0.401451  0.939553 -0.918351 -0.152371          PB\n",
       "B  0.680274 -1.150253  1.124790  0.517425          PE\n",
       "C  0.178798 -0.316577 -1.643051  0.235136          SP\n",
       "D  1.658206 -1.468568  0.223472 -1.768720          RJ\n",
       "E -1.450825 -0.037364 -0.248139  1.017535          RS"
      ]
     },
     "execution_count": 117,
     "metadata": {},
     "output_type": "execute_result"
    }
   ],
   "source": [
    "df['novo_indice'] = 'PB PE SP RJ RS'.split() # Adiciona uma coluna\n",
    "df"
   ]
  },
  {
   "cell_type": "code",
   "execution_count": 118,
   "id": "5bbc4d7a",
   "metadata": {},
   "outputs": [
    {
     "data": {
      "text/html": [
       "<div>\n",
       "<style scoped>\n",
       "    .dataframe tbody tr th:only-of-type {\n",
       "        vertical-align: middle;\n",
       "    }\n",
       "\n",
       "    .dataframe tbody tr th {\n",
       "        vertical-align: top;\n",
       "    }\n",
       "\n",
       "    .dataframe thead th {\n",
       "        text-align: right;\n",
       "    }\n",
       "</style>\n",
       "<table border=\"1\" class=\"dataframe\">\n",
       "  <thead>\n",
       "    <tr style=\"text-align: right;\">\n",
       "      <th></th>\n",
       "      <th>index</th>\n",
       "      <th>W</th>\n",
       "      <th>X</th>\n",
       "      <th>Y</th>\n",
       "      <th>Z</th>\n",
       "      <th>novo_indice</th>\n",
       "    </tr>\n",
       "  </thead>\n",
       "  <tbody>\n",
       "    <tr>\n",
       "      <th>0</th>\n",
       "      <td>A</td>\n",
       "      <td>0.401451</td>\n",
       "      <td>0.939553</td>\n",
       "      <td>-0.918351</td>\n",
       "      <td>-0.152371</td>\n",
       "      <td>PB</td>\n",
       "    </tr>\n",
       "    <tr>\n",
       "      <th>1</th>\n",
       "      <td>B</td>\n",
       "      <td>0.680274</td>\n",
       "      <td>-1.150253</td>\n",
       "      <td>1.124790</td>\n",
       "      <td>0.517425</td>\n",
       "      <td>PE</td>\n",
       "    </tr>\n",
       "    <tr>\n",
       "      <th>2</th>\n",
       "      <td>C</td>\n",
       "      <td>0.178798</td>\n",
       "      <td>-0.316577</td>\n",
       "      <td>-1.643051</td>\n",
       "      <td>0.235136</td>\n",
       "      <td>SP</td>\n",
       "    </tr>\n",
       "    <tr>\n",
       "      <th>3</th>\n",
       "      <td>D</td>\n",
       "      <td>1.658206</td>\n",
       "      <td>-1.468568</td>\n",
       "      <td>0.223472</td>\n",
       "      <td>-1.768720</td>\n",
       "      <td>RJ</td>\n",
       "    </tr>\n",
       "    <tr>\n",
       "      <th>4</th>\n",
       "      <td>E</td>\n",
       "      <td>-1.450825</td>\n",
       "      <td>-0.037364</td>\n",
       "      <td>-0.248139</td>\n",
       "      <td>1.017535</td>\n",
       "      <td>RS</td>\n",
       "    </tr>\n",
       "  </tbody>\n",
       "</table>\n",
       "</div>"
      ],
      "text/plain": [
       "  index         W         X         Y         Z novo_indice\n",
       "0     A  0.401451  0.939553 -0.918351 -0.152371          PB\n",
       "1     B  0.680274 -1.150253  1.124790  0.517425          PE\n",
       "2     C  0.178798 -0.316577 -1.643051  0.235136          SP\n",
       "3     D  1.658206 -1.468568  0.223472 -1.768720          RJ\n",
       "4     E -1.450825 -0.037364 -0.248139  1.017535          RS"
      ]
     },
     "execution_count": 118,
     "metadata": {},
     "output_type": "execute_result"
    }
   ],
   "source": [
    "df.reset_index(inplace=True) # Transforma o índice em coluna\n",
    "df"
   ]
  },
  {
   "cell_type": "code",
   "execution_count": 119,
   "id": "bfcd0562",
   "metadata": {},
   "outputs": [
    {
     "data": {
      "text/html": [
       "<div>\n",
       "<style scoped>\n",
       "    .dataframe tbody tr th:only-of-type {\n",
       "        vertical-align: middle;\n",
       "    }\n",
       "\n",
       "    .dataframe tbody tr th {\n",
       "        vertical-align: top;\n",
       "    }\n",
       "\n",
       "    .dataframe thead th {\n",
       "        text-align: right;\n",
       "    }\n",
       "</style>\n",
       "<table border=\"1\" class=\"dataframe\">\n",
       "  <thead>\n",
       "    <tr style=\"text-align: right;\">\n",
       "      <th></th>\n",
       "      <th>index</th>\n",
       "      <th>W</th>\n",
       "      <th>X</th>\n",
       "      <th>Y</th>\n",
       "      <th>Z</th>\n",
       "    </tr>\n",
       "    <tr>\n",
       "      <th>novo_indice</th>\n",
       "      <th></th>\n",
       "      <th></th>\n",
       "      <th></th>\n",
       "      <th></th>\n",
       "      <th></th>\n",
       "    </tr>\n",
       "  </thead>\n",
       "  <tbody>\n",
       "    <tr>\n",
       "      <th>PB</th>\n",
       "      <td>A</td>\n",
       "      <td>0.401451</td>\n",
       "      <td>0.939553</td>\n",
       "      <td>-0.918351</td>\n",
       "      <td>-0.152371</td>\n",
       "    </tr>\n",
       "    <tr>\n",
       "      <th>PE</th>\n",
       "      <td>B</td>\n",
       "      <td>0.680274</td>\n",
       "      <td>-1.150253</td>\n",
       "      <td>1.124790</td>\n",
       "      <td>0.517425</td>\n",
       "    </tr>\n",
       "    <tr>\n",
       "      <th>SP</th>\n",
       "      <td>C</td>\n",
       "      <td>0.178798</td>\n",
       "      <td>-0.316577</td>\n",
       "      <td>-1.643051</td>\n",
       "      <td>0.235136</td>\n",
       "    </tr>\n",
       "    <tr>\n",
       "      <th>RJ</th>\n",
       "      <td>D</td>\n",
       "      <td>1.658206</td>\n",
       "      <td>-1.468568</td>\n",
       "      <td>0.223472</td>\n",
       "      <td>-1.768720</td>\n",
       "    </tr>\n",
       "    <tr>\n",
       "      <th>RS</th>\n",
       "      <td>E</td>\n",
       "      <td>-1.450825</td>\n",
       "      <td>-0.037364</td>\n",
       "      <td>-0.248139</td>\n",
       "      <td>1.017535</td>\n",
       "    </tr>\n",
       "  </tbody>\n",
       "</table>\n",
       "</div>"
      ],
      "text/plain": [
       "            index         W         X         Y         Z\n",
       "novo_indice                                              \n",
       "PB              A  0.401451  0.939553 -0.918351 -0.152371\n",
       "PE              B  0.680274 -1.150253  1.124790  0.517425\n",
       "SP              C  0.178798 -0.316577 -1.643051  0.235136\n",
       "RJ              D  1.658206 -1.468568  0.223472 -1.768720\n",
       "RS              E -1.450825 -0.037364 -0.248139  1.017535"
      ]
     },
     "execution_count": 119,
     "metadata": {},
     "output_type": "execute_result"
    }
   ],
   "source": [
    "df.set_index('novo_indice', inplace=True) # Seta um novo índice\n",
    "df"
   ]
  },
  {
   "cell_type": "code",
   "execution_count": 120,
   "id": "459a04d5",
   "metadata": {},
   "outputs": [
    {
     "data": {
      "text/html": [
       "<div>\n",
       "<style scoped>\n",
       "    .dataframe tbody tr th:only-of-type {\n",
       "        vertical-align: middle;\n",
       "    }\n",
       "\n",
       "    .dataframe tbody tr th {\n",
       "        vertical-align: top;\n",
       "    }\n",
       "\n",
       "    .dataframe thead th {\n",
       "        text-align: right;\n",
       "    }\n",
       "</style>\n",
       "<table border=\"1\" class=\"dataframe\">\n",
       "  <thead>\n",
       "    <tr style=\"text-align: right;\">\n",
       "      <th></th>\n",
       "      <th>W</th>\n",
       "      <th>X</th>\n",
       "      <th>Y</th>\n",
       "      <th>Z</th>\n",
       "    </tr>\n",
       "    <tr>\n",
       "      <th>index</th>\n",
       "      <th></th>\n",
       "      <th></th>\n",
       "      <th></th>\n",
       "      <th></th>\n",
       "    </tr>\n",
       "  </thead>\n",
       "  <tbody>\n",
       "    <tr>\n",
       "      <th>A</th>\n",
       "      <td>0.401451</td>\n",
       "      <td>0.939553</td>\n",
       "      <td>-0.918351</td>\n",
       "      <td>-0.152371</td>\n",
       "    </tr>\n",
       "    <tr>\n",
       "      <th>B</th>\n",
       "      <td>0.680274</td>\n",
       "      <td>-1.150253</td>\n",
       "      <td>1.124790</td>\n",
       "      <td>0.517425</td>\n",
       "    </tr>\n",
       "    <tr>\n",
       "      <th>C</th>\n",
       "      <td>0.178798</td>\n",
       "      <td>-0.316577</td>\n",
       "      <td>-1.643051</td>\n",
       "      <td>0.235136</td>\n",
       "    </tr>\n",
       "    <tr>\n",
       "      <th>D</th>\n",
       "      <td>1.658206</td>\n",
       "      <td>-1.468568</td>\n",
       "      <td>0.223472</td>\n",
       "      <td>-1.768720</td>\n",
       "    </tr>\n",
       "    <tr>\n",
       "      <th>E</th>\n",
       "      <td>-1.450825</td>\n",
       "      <td>-0.037364</td>\n",
       "      <td>-0.248139</td>\n",
       "      <td>1.017535</td>\n",
       "    </tr>\n",
       "  </tbody>\n",
       "</table>\n",
       "</div>"
      ],
      "text/plain": [
       "              W         X         Y         Z\n",
       "index                                        \n",
       "A      0.401451  0.939553 -0.918351 -0.152371\n",
       "B      0.680274 -1.150253  1.124790  0.517425\n",
       "C      0.178798 -0.316577 -1.643051  0.235136\n",
       "D      1.658206 -1.468568  0.223472 -1.768720\n",
       "E     -1.450825 -0.037364 -0.248139  1.017535"
      ]
     },
     "execution_count": 120,
     "metadata": {},
     "output_type": "execute_result"
    }
   ],
   "source": [
    "df.set_index('index', inplace=True) # Substitui o índice por uma coluna\n",
    "df"
   ]
  }
 ],
 "metadata": {
  "kernelspec": {
   "display_name": ".venv",
   "language": "python",
   "name": "python3"
  },
  "language_info": {
   "codemirror_mode": {
    "name": "ipython",
    "version": 3
   },
   "file_extension": ".py",
   "mimetype": "text/x-python",
   "name": "python",
   "nbconvert_exporter": "python",
   "pygments_lexer": "ipython3",
   "version": "3.12.3"
  }
 },
 "nbformat": 4,
 "nbformat_minor": 5
}
